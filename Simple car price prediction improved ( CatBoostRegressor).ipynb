{
 "cells": [
  {
   "cell_type": "code",
   "execution_count": 225,
   "metadata": {},
   "outputs": [],
   "source": [
    "import pandas as pd\n",
    "import numpy as np\n",
    "import matplotlib.pyplot as plt\n",
    "import seaborn as sns\n",
    "from sklearn.model_selection import train_test_split\n",
    "from sklearn.metrics import matthews_corrcoef"
   ]
  },
  {
   "cell_type": "code",
   "execution_count": 226,
   "metadata": {},
   "outputs": [],
   "source": [
    "x=pd.read_csv('C:\\\\Users\\\\Aayush Kandpal\\\\Downloads\\\\train.csv')\n",
    "y=pd.read_csv('C:\\\\Users\\\\Aayush Kandpal\\\\Downloads\\\\train.csv')\n",
    "x_train, x_test, y_train, y_test = train_test_split(x, y, test_size=0.10,random_state=42)"
   ]
  },
  {
   "cell_type": "code",
   "execution_count": 194,
   "metadata": {},
   "outputs": [
    {
     "name": "stdout",
     "output_type": "stream",
     "text": [
      "<class 'pandas.core.frame.DataFrame'>\n",
      "Int64Index: 900 entries, 716 to 102\n",
      "Data columns (total 12 columns):\n",
      "v.id           900 non-null int64\n",
      "on road old    900 non-null int64\n",
      "on road now    900 non-null int64\n",
      "years          900 non-null int64\n",
      "km             900 non-null int64\n",
      "rating         900 non-null int64\n",
      "condition      900 non-null int64\n",
      "economy        900 non-null int64\n",
      "top speed      900 non-null int64\n",
      "hp             900 non-null int64\n",
      "torque         900 non-null int64\n",
      "price          900 non-null float64\n",
      "dtypes: float64(1), int64(11)\n",
      "memory usage: 91.4 KB\n"
     ]
    }
   ],
   "source": [
    "x_train.info()"
   ]
  },
  {
   "cell_type": "code",
   "execution_count": 15,
   "metadata": {},
   "outputs": [
    {
     "name": "stdout",
     "output_type": "stream",
     "text": [
      "<class 'pandas.core.frame.DataFrame'>\n",
      "Int64Index: 100 entries, 521 to 826\n",
      "Data columns (total 12 columns):\n",
      "v.id           100 non-null int64\n",
      "on road old    100 non-null int64\n",
      "on road now    100 non-null int64\n",
      "years          100 non-null int64\n",
      "km             100 non-null int64\n",
      "rating         100 non-null int64\n",
      "condition      100 non-null int64\n",
      "economy        100 non-null int64\n",
      "top speed      100 non-null int64\n",
      "hp             100 non-null int64\n",
      "torque         100 non-null int64\n",
      "price          100 non-null float64\n",
      "dtypes: float64(1), int64(11)\n",
      "memory usage: 10.2 KB\n"
     ]
    }
   ],
   "source": [
    "x_test.info()"
   ]
  },
  {
   "cell_type": "code",
   "execution_count": 16,
   "metadata": {},
   "outputs": [
    {
     "data": {
      "text/html": [
       "<div>\n",
       "<style scoped>\n",
       "    .dataframe tbody tr th:only-of-type {\n",
       "        vertical-align: middle;\n",
       "    }\n",
       "\n",
       "    .dataframe tbody tr th {\n",
       "        vertical-align: top;\n",
       "    }\n",
       "\n",
       "    .dataframe thead th {\n",
       "        text-align: right;\n",
       "    }\n",
       "</style>\n",
       "<table border=\"1\" class=\"dataframe\">\n",
       "  <thead>\n",
       "    <tr style=\"text-align: right;\">\n",
       "      <th></th>\n",
       "      <th>v.id</th>\n",
       "      <th>on road old</th>\n",
       "      <th>on road now</th>\n",
       "      <th>years</th>\n",
       "      <th>km</th>\n",
       "      <th>rating</th>\n",
       "      <th>condition</th>\n",
       "      <th>economy</th>\n",
       "      <th>top speed</th>\n",
       "      <th>hp</th>\n",
       "      <th>torque</th>\n",
       "      <th>price</th>\n",
       "    </tr>\n",
       "  </thead>\n",
       "  <tbody>\n",
       "    <tr>\n",
       "      <td>716</td>\n",
       "      <td>717</td>\n",
       "      <td>529187</td>\n",
       "      <td>741327</td>\n",
       "      <td>7</td>\n",
       "      <td>131076</td>\n",
       "      <td>4</td>\n",
       "      <td>6</td>\n",
       "      <td>9</td>\n",
       "      <td>136</td>\n",
       "      <td>51</td>\n",
       "      <td>128</td>\n",
       "      <td>107147.5</td>\n",
       "    </tr>\n",
       "    <tr>\n",
       "      <td>351</td>\n",
       "      <td>352</td>\n",
       "      <td>681432</td>\n",
       "      <td>882715</td>\n",
       "      <td>4</td>\n",
       "      <td>100348</td>\n",
       "      <td>4</td>\n",
       "      <td>9</td>\n",
       "      <td>9</td>\n",
       "      <td>179</td>\n",
       "      <td>65</td>\n",
       "      <td>70</td>\n",
       "      <td>410403.5</td>\n",
       "    </tr>\n",
       "    <tr>\n",
       "      <td>936</td>\n",
       "      <td>937</td>\n",
       "      <td>672349</td>\n",
       "      <td>878458</td>\n",
       "      <td>3</td>\n",
       "      <td>121892</td>\n",
       "      <td>2</td>\n",
       "      <td>8</td>\n",
       "      <td>11</td>\n",
       "      <td>174</td>\n",
       "      <td>52</td>\n",
       "      <td>133</td>\n",
       "      <td>304354.0</td>\n",
       "    </tr>\n",
       "    <tr>\n",
       "      <td>256</td>\n",
       "      <td>257</td>\n",
       "      <td>541464</td>\n",
       "      <td>752239</td>\n",
       "      <td>3</td>\n",
       "      <td>112964</td>\n",
       "      <td>2</td>\n",
       "      <td>8</td>\n",
       "      <td>13</td>\n",
       "      <td>155</td>\n",
       "      <td>106</td>\n",
       "      <td>79</td>\n",
       "      <td>211528.5</td>\n",
       "    </tr>\n",
       "    <tr>\n",
       "      <td>635</td>\n",
       "      <td>636</td>\n",
       "      <td>636134</td>\n",
       "      <td>747539</td>\n",
       "      <td>7</td>\n",
       "      <td>90585</td>\n",
       "      <td>5</td>\n",
       "      <td>7</td>\n",
       "      <td>10</td>\n",
       "      <td>176</td>\n",
       "      <td>62</td>\n",
       "      <td>71</td>\n",
       "      <td>331263.5</td>\n",
       "    </tr>\n",
       "  </tbody>\n",
       "</table>\n",
       "</div>"
      ],
      "text/plain": [
       "     v.id  on road old  on road now  years      km  rating  condition  \\\n",
       "716   717       529187       741327      7  131076       4          6   \n",
       "351   352       681432       882715      4  100348       4          9   \n",
       "936   937       672349       878458      3  121892       2          8   \n",
       "256   257       541464       752239      3  112964       2          8   \n",
       "635   636       636134       747539      7   90585       5          7   \n",
       "\n",
       "     economy  top speed   hp  torque     price  \n",
       "716        9        136   51     128  107147.5  \n",
       "351        9        179   65      70  410403.5  \n",
       "936       11        174   52     133  304354.0  \n",
       "256       13        155  106      79  211528.5  \n",
       "635       10        176   62      71  331263.5  "
      ]
     },
     "execution_count": 16,
     "metadata": {},
     "output_type": "execute_result"
    }
   ],
   "source": [
    "x_train.head()\n"
   ]
  },
  {
   "cell_type": "code",
   "execution_count": 17,
   "metadata": {},
   "outputs": [
    {
     "data": {
      "text/html": [
       "<div>\n",
       "<style scoped>\n",
       "    .dataframe tbody tr th:only-of-type {\n",
       "        vertical-align: middle;\n",
       "    }\n",
       "\n",
       "    .dataframe tbody tr th {\n",
       "        vertical-align: top;\n",
       "    }\n",
       "\n",
       "    .dataframe thead th {\n",
       "        text-align: right;\n",
       "    }\n",
       "</style>\n",
       "<table border=\"1\" class=\"dataframe\">\n",
       "  <thead>\n",
       "    <tr style=\"text-align: right;\">\n",
       "      <th></th>\n",
       "      <th>v.id</th>\n",
       "      <th>on road old</th>\n",
       "      <th>on road now</th>\n",
       "      <th>years</th>\n",
       "      <th>km</th>\n",
       "      <th>rating</th>\n",
       "      <th>condition</th>\n",
       "      <th>economy</th>\n",
       "      <th>top speed</th>\n",
       "      <th>hp</th>\n",
       "      <th>torque</th>\n",
       "      <th>price</th>\n",
       "    </tr>\n",
       "  </thead>\n",
       "  <tbody>\n",
       "    <tr>\n",
       "      <td>521</td>\n",
       "      <td>522</td>\n",
       "      <td>693986</td>\n",
       "      <td>727374</td>\n",
       "      <td>3</td>\n",
       "      <td>82191</td>\n",
       "      <td>5</td>\n",
       "      <td>1</td>\n",
       "      <td>9</td>\n",
       "      <td>139</td>\n",
       "      <td>107</td>\n",
       "      <td>99</td>\n",
       "      <td>383570.5</td>\n",
       "    </tr>\n",
       "    <tr>\n",
       "      <td>737</td>\n",
       "      <td>738</td>\n",
       "      <td>580888</td>\n",
       "      <td>897357</td>\n",
       "      <td>6</td>\n",
       "      <td>57543</td>\n",
       "      <td>1</td>\n",
       "      <td>5</td>\n",
       "      <td>9</td>\n",
       "      <td>172</td>\n",
       "      <td>99</td>\n",
       "      <td>105</td>\n",
       "      <td>506854.0</td>\n",
       "    </tr>\n",
       "    <tr>\n",
       "      <td>740</td>\n",
       "      <td>741</td>\n",
       "      <td>533346</td>\n",
       "      <td>733566</td>\n",
       "      <td>6</td>\n",
       "      <td>123028</td>\n",
       "      <td>3</td>\n",
       "      <td>7</td>\n",
       "      <td>11</td>\n",
       "      <td>140</td>\n",
       "      <td>103</td>\n",
       "      <td>120</td>\n",
       "      <td>146223.0</td>\n",
       "    </tr>\n",
       "    <tr>\n",
       "      <td>660</td>\n",
       "      <td>661</td>\n",
       "      <td>507983</td>\n",
       "      <td>761811</td>\n",
       "      <td>3</td>\n",
       "      <td>116587</td>\n",
       "      <td>3</td>\n",
       "      <td>2</td>\n",
       "      <td>14</td>\n",
       "      <td>169</td>\n",
       "      <td>90</td>\n",
       "      <td>124</td>\n",
       "      <td>168854.5</td>\n",
       "    </tr>\n",
       "    <tr>\n",
       "      <td>411</td>\n",
       "      <td>412</td>\n",
       "      <td>655963</td>\n",
       "      <td>766226</td>\n",
       "      <td>5</td>\n",
       "      <td>50648</td>\n",
       "      <td>3</td>\n",
       "      <td>4</td>\n",
       "      <td>11</td>\n",
       "      <td>140</td>\n",
       "      <td>112</td>\n",
       "      <td>78</td>\n",
       "      <td>507799.0</td>\n",
       "    </tr>\n",
       "  </tbody>\n",
       "</table>\n",
       "</div>"
      ],
      "text/plain": [
       "     v.id  on road old  on road now  years      km  rating  condition  \\\n",
       "521   522       693986       727374      3   82191       5          1   \n",
       "737   738       580888       897357      6   57543       1          5   \n",
       "740   741       533346       733566      6  123028       3          7   \n",
       "660   661       507983       761811      3  116587       3          2   \n",
       "411   412       655963       766226      5   50648       3          4   \n",
       "\n",
       "     economy  top speed   hp  torque     price  \n",
       "521        9        139  107      99  383570.5  \n",
       "737        9        172   99     105  506854.0  \n",
       "740       11        140  103     120  146223.0  \n",
       "660       14        169   90     124  168854.5  \n",
       "411       11        140  112      78  507799.0  "
      ]
     },
     "execution_count": 17,
     "metadata": {},
     "output_type": "execute_result"
    }
   ],
   "source": [
    "x_test.head()"
   ]
  },
  {
   "cell_type": "code",
   "execution_count": 18,
   "metadata": {},
   "outputs": [
    {
     "data": {
      "text/html": [
       "<div>\n",
       "<style scoped>\n",
       "    .dataframe tbody tr th:only-of-type {\n",
       "        vertical-align: middle;\n",
       "    }\n",
       "\n",
       "    .dataframe tbody tr th {\n",
       "        vertical-align: top;\n",
       "    }\n",
       "\n",
       "    .dataframe thead th {\n",
       "        text-align: right;\n",
       "    }\n",
       "</style>\n",
       "<table border=\"1\" class=\"dataframe\">\n",
       "  <thead>\n",
       "    <tr style=\"text-align: right;\">\n",
       "      <th></th>\n",
       "      <th>v.id</th>\n",
       "      <th>on road old</th>\n",
       "      <th>on road now</th>\n",
       "      <th>years</th>\n",
       "      <th>km</th>\n",
       "      <th>rating</th>\n",
       "      <th>condition</th>\n",
       "      <th>economy</th>\n",
       "      <th>top speed</th>\n",
       "      <th>hp</th>\n",
       "      <th>torque</th>\n",
       "      <th>price</th>\n",
       "    </tr>\n",
       "  </thead>\n",
       "  <tbody>\n",
       "    <tr>\n",
       "      <td>count</td>\n",
       "      <td>900.000000</td>\n",
       "      <td>900.000000</td>\n",
       "      <td>900.000000</td>\n",
       "      <td>900.000000</td>\n",
       "      <td>900.000000</td>\n",
       "      <td>900.000000</td>\n",
       "      <td>900.000000</td>\n",
       "      <td>900.000000</td>\n",
       "      <td>900.000000</td>\n",
       "      <td>900.000000</td>\n",
       "      <td>900.000000</td>\n",
       "      <td>900.000000</td>\n",
       "    </tr>\n",
       "    <tr>\n",
       "      <td>mean</td>\n",
       "      <td>501.691111</td>\n",
       "      <td>601054.810000</td>\n",
       "      <td>798390.361111</td>\n",
       "      <td>4.562222</td>\n",
       "      <td>100423.297778</td>\n",
       "      <td>2.980000</td>\n",
       "      <td>5.635556</td>\n",
       "      <td>11.657778</td>\n",
       "      <td>166.885556</td>\n",
       "      <td>84.677778</td>\n",
       "      <td>103.236667</td>\n",
       "      <td>307414.000000</td>\n",
       "    </tr>\n",
       "    <tr>\n",
       "      <td>std</td>\n",
       "      <td>289.110438</td>\n",
       "      <td>58310.492991</td>\n",
       "      <td>57200.273229</td>\n",
       "      <td>1.723203</td>\n",
       "      <td>29096.035727</td>\n",
       "      <td>1.404601</td>\n",
       "      <td>2.824189</td>\n",
       "      <td>2.241929</td>\n",
       "      <td>19.308894</td>\n",
       "      <td>20.516646</td>\n",
       "      <td>21.212904</td>\n",
       "      <td>125724.757726</td>\n",
       "    </tr>\n",
       "    <tr>\n",
       "      <td>min</td>\n",
       "      <td>1.000000</td>\n",
       "      <td>500265.000000</td>\n",
       "      <td>700018.000000</td>\n",
       "      <td>2.000000</td>\n",
       "      <td>50324.000000</td>\n",
       "      <td>1.000000</td>\n",
       "      <td>1.000000</td>\n",
       "      <td>8.000000</td>\n",
       "      <td>135.000000</td>\n",
       "      <td>50.000000</td>\n",
       "      <td>68.000000</td>\n",
       "      <td>28226.500000</td>\n",
       "    </tr>\n",
       "    <tr>\n",
       "      <td>25%</td>\n",
       "      <td>249.750000</td>\n",
       "      <td>548763.500000</td>\n",
       "      <td>750299.750000</td>\n",
       "      <td>3.000000</td>\n",
       "      <td>74651.750000</td>\n",
       "      <td>2.000000</td>\n",
       "      <td>3.000000</td>\n",
       "      <td>10.000000</td>\n",
       "      <td>150.000000</td>\n",
       "      <td>67.000000</td>\n",
       "      <td>84.000000</td>\n",
       "      <td>204578.000000</td>\n",
       "    </tr>\n",
       "    <tr>\n",
       "      <td>50%</td>\n",
       "      <td>497.500000</td>\n",
       "      <td>601008.000000</td>\n",
       "      <td>797739.000000</td>\n",
       "      <td>5.000000</td>\n",
       "      <td>100047.000000</td>\n",
       "      <td>3.000000</td>\n",
       "      <td>6.000000</td>\n",
       "      <td>12.000000</td>\n",
       "      <td>166.000000</td>\n",
       "      <td>84.000000</td>\n",
       "      <td>103.000000</td>\n",
       "      <td>306717.750000</td>\n",
       "    </tr>\n",
       "    <tr>\n",
       "      <td>75%</td>\n",
       "      <td>753.500000</td>\n",
       "      <td>651801.250000</td>\n",
       "      <td>846693.250000</td>\n",
       "      <td>6.000000</td>\n",
       "      <td>125466.000000</td>\n",
       "      <td>4.000000</td>\n",
       "      <td>8.000000</td>\n",
       "      <td>14.000000</td>\n",
       "      <td>184.000000</td>\n",
       "      <td>102.000000</td>\n",
       "      <td>121.000000</td>\n",
       "      <td>413643.625000</td>\n",
       "    </tr>\n",
       "    <tr>\n",
       "      <td>max</td>\n",
       "      <td>1000.000000</td>\n",
       "      <td>699714.000000</td>\n",
       "      <td>899711.000000</td>\n",
       "      <td>7.000000</td>\n",
       "      <td>149902.000000</td>\n",
       "      <td>5.000000</td>\n",
       "      <td>10.000000</td>\n",
       "      <td>15.000000</td>\n",
       "      <td>200.000000</td>\n",
       "      <td>120.000000</td>\n",
       "      <td>140.000000</td>\n",
       "      <td>584267.500000</td>\n",
       "    </tr>\n",
       "  </tbody>\n",
       "</table>\n",
       "</div>"
      ],
      "text/plain": [
       "              v.id    on road old    on road now       years             km  \\\n",
       "count   900.000000     900.000000     900.000000  900.000000     900.000000   \n",
       "mean    501.691111  601054.810000  798390.361111    4.562222  100423.297778   \n",
       "std     289.110438   58310.492991   57200.273229    1.723203   29096.035727   \n",
       "min       1.000000  500265.000000  700018.000000    2.000000   50324.000000   \n",
       "25%     249.750000  548763.500000  750299.750000    3.000000   74651.750000   \n",
       "50%     497.500000  601008.000000  797739.000000    5.000000  100047.000000   \n",
       "75%     753.500000  651801.250000  846693.250000    6.000000  125466.000000   \n",
       "max    1000.000000  699714.000000  899711.000000    7.000000  149902.000000   \n",
       "\n",
       "           rating   condition     economy   top speed          hp      torque  \\\n",
       "count  900.000000  900.000000  900.000000  900.000000  900.000000  900.000000   \n",
       "mean     2.980000    5.635556   11.657778  166.885556   84.677778  103.236667   \n",
       "std      1.404601    2.824189    2.241929   19.308894   20.516646   21.212904   \n",
       "min      1.000000    1.000000    8.000000  135.000000   50.000000   68.000000   \n",
       "25%      2.000000    3.000000   10.000000  150.000000   67.000000   84.000000   \n",
       "50%      3.000000    6.000000   12.000000  166.000000   84.000000  103.000000   \n",
       "75%      4.000000    8.000000   14.000000  184.000000  102.000000  121.000000   \n",
       "max      5.000000   10.000000   15.000000  200.000000  120.000000  140.000000   \n",
       "\n",
       "               price  \n",
       "count     900.000000  \n",
       "mean   307414.000000  \n",
       "std    125724.757726  \n",
       "min     28226.500000  \n",
       "25%    204578.000000  \n",
       "50%    306717.750000  \n",
       "75%    413643.625000  \n",
       "max    584267.500000  "
      ]
     },
     "execution_count": 18,
     "metadata": {},
     "output_type": "execute_result"
    }
   ],
   "source": [
    "x_train.describe()\n"
   ]
  },
  {
   "cell_type": "code",
   "execution_count": 79,
   "metadata": {},
   "outputs": [
    {
     "data": {
      "text/html": [
       "<div>\n",
       "<style scoped>\n",
       "    .dataframe tbody tr th:only-of-type {\n",
       "        vertical-align: middle;\n",
       "    }\n",
       "\n",
       "    .dataframe tbody tr th {\n",
       "        vertical-align: top;\n",
       "    }\n",
       "\n",
       "    .dataframe thead th {\n",
       "        text-align: right;\n",
       "    }\n",
       "</style>\n",
       "<table border=\"1\" class=\"dataframe\">\n",
       "  <thead>\n",
       "    <tr style=\"text-align: right;\">\n",
       "      <th></th>\n",
       "      <th>v.id</th>\n",
       "      <th>on road old</th>\n",
       "      <th>on road now</th>\n",
       "      <th>years</th>\n",
       "      <th>km</th>\n",
       "      <th>rating</th>\n",
       "      <th>condition</th>\n",
       "      <th>economy</th>\n",
       "      <th>top speed</th>\n",
       "      <th>hp</th>\n",
       "      <th>torque</th>\n",
       "    </tr>\n",
       "  </thead>\n",
       "  <tbody>\n",
       "    <tr>\n",
       "      <td>count</td>\n",
       "      <td>100.000000</td>\n",
       "      <td>100.000000</td>\n",
       "      <td>100.000000</td>\n",
       "      <td>100.000000</td>\n",
       "      <td>100.0000</td>\n",
       "      <td>100.000000</td>\n",
       "      <td>100.000000</td>\n",
       "      <td>100.000000</td>\n",
       "      <td>100.000000</td>\n",
       "      <td>100.000000</td>\n",
       "      <td>100.00000</td>\n",
       "    </tr>\n",
       "    <tr>\n",
       "      <td>mean</td>\n",
       "      <td>472.970000</td>\n",
       "      <td>592800.840000</td>\n",
       "      <td>801587.510000</td>\n",
       "      <td>4.580000</td>\n",
       "      <td>101580.6300</td>\n",
       "      <td>2.960000</td>\n",
       "      <td>5.680000</td>\n",
       "      <td>11.760000</td>\n",
       "      <td>168.080000</td>\n",
       "      <td>85.590000</td>\n",
       "      <td>101.23000</td>\n",
       "    </tr>\n",
       "    <tr>\n",
       "      <td>std</td>\n",
       "      <td>266.664752</td>\n",
       "      <td>56604.752825</td>\n",
       "      <td>55359.748261</td>\n",
       "      <td>1.652546</td>\n",
       "      <td>29638.6202</td>\n",
       "      <td>1.420769</td>\n",
       "      <td>2.677554</td>\n",
       "      <td>2.099158</td>\n",
       "      <td>17.493248</td>\n",
       "      <td>20.085723</td>\n",
       "      <td>21.58369</td>\n",
       "    </tr>\n",
       "    <tr>\n",
       "      <td>min</td>\n",
       "      <td>7.000000</td>\n",
       "      <td>501908.000000</td>\n",
       "      <td>700018.000000</td>\n",
       "      <td>2.000000</td>\n",
       "      <td>50714.0000</td>\n",
       "      <td>1.000000</td>\n",
       "      <td>1.000000</td>\n",
       "      <td>8.000000</td>\n",
       "      <td>135.000000</td>\n",
       "      <td>50.000000</td>\n",
       "      <td>68.00000</td>\n",
       "    </tr>\n",
       "    <tr>\n",
       "      <td>25%</td>\n",
       "      <td>268.500000</td>\n",
       "      <td>545160.250000</td>\n",
       "      <td>760137.750000</td>\n",
       "      <td>3.000000</td>\n",
       "      <td>75920.0000</td>\n",
       "      <td>2.000000</td>\n",
       "      <td>3.750000</td>\n",
       "      <td>10.000000</td>\n",
       "      <td>155.750000</td>\n",
       "      <td>71.500000</td>\n",
       "      <td>81.00000</td>\n",
       "    </tr>\n",
       "    <tr>\n",
       "      <td>50%</td>\n",
       "      <td>448.500000</td>\n",
       "      <td>590915.000000</td>\n",
       "      <td>801488.500000</td>\n",
       "      <td>5.000000</td>\n",
       "      <td>102103.5000</td>\n",
       "      <td>3.000000</td>\n",
       "      <td>6.000000</td>\n",
       "      <td>12.000000</td>\n",
       "      <td>167.000000</td>\n",
       "      <td>84.000000</td>\n",
       "      <td>100.00000</td>\n",
       "    </tr>\n",
       "    <tr>\n",
       "      <td>75%</td>\n",
       "      <td>664.000000</td>\n",
       "      <td>643109.000000</td>\n",
       "      <td>844001.000000</td>\n",
       "      <td>6.000000</td>\n",
       "      <td>128760.7500</td>\n",
       "      <td>4.000000</td>\n",
       "      <td>8.000000</td>\n",
       "      <td>13.250000</td>\n",
       "      <td>181.250000</td>\n",
       "      <td>104.000000</td>\n",
       "      <td>119.50000</td>\n",
       "    </tr>\n",
       "    <tr>\n",
       "      <td>max</td>\n",
       "      <td>988.000000</td>\n",
       "      <td>699859.000000</td>\n",
       "      <td>899711.000000</td>\n",
       "      <td>7.000000</td>\n",
       "      <td>149529.0000</td>\n",
       "      <td>5.000000</td>\n",
       "      <td>10.000000</td>\n",
       "      <td>15.000000</td>\n",
       "      <td>200.000000</td>\n",
       "      <td>120.000000</td>\n",
       "      <td>140.00000</td>\n",
       "    </tr>\n",
       "  </tbody>\n",
       "</table>\n",
       "</div>"
      ],
      "text/plain": [
       "             v.id    on road old    on road now       years           km  \\\n",
       "count  100.000000     100.000000     100.000000  100.000000     100.0000   \n",
       "mean   472.970000  592800.840000  801587.510000    4.580000  101580.6300   \n",
       "std    266.664752   56604.752825   55359.748261    1.652546   29638.6202   \n",
       "min      7.000000  501908.000000  700018.000000    2.000000   50714.0000   \n",
       "25%    268.500000  545160.250000  760137.750000    3.000000   75920.0000   \n",
       "50%    448.500000  590915.000000  801488.500000    5.000000  102103.5000   \n",
       "75%    664.000000  643109.000000  844001.000000    6.000000  128760.7500   \n",
       "max    988.000000  699859.000000  899711.000000    7.000000  149529.0000   \n",
       "\n",
       "           rating   condition     economy   top speed          hp     torque  \n",
       "count  100.000000  100.000000  100.000000  100.000000  100.000000  100.00000  \n",
       "mean     2.960000    5.680000   11.760000  168.080000   85.590000  101.23000  \n",
       "std      1.420769    2.677554    2.099158   17.493248   20.085723   21.58369  \n",
       "min      1.000000    1.000000    8.000000  135.000000   50.000000   68.00000  \n",
       "25%      2.000000    3.750000   10.000000  155.750000   71.500000   81.00000  \n",
       "50%      3.000000    6.000000   12.000000  167.000000   84.000000  100.00000  \n",
       "75%      4.000000    8.000000   13.250000  181.250000  104.000000  119.50000  \n",
       "max      5.000000   10.000000   15.000000  200.000000  120.000000  140.00000  "
      ]
     },
     "execution_count": 79,
     "metadata": {},
     "output_type": "execute_result"
    }
   ],
   "source": [
    "x_test.describe()"
   ]
  },
  {
   "cell_type": "code",
   "execution_count": 227,
   "metadata": {},
   "outputs": [
    {
     "name": "stdout",
     "output_type": "stream",
     "text": [
      "Skew is: 0.014336442816532255\n"
     ]
    },
    {
     "data": {
      "image/png": "[encoded data removed]",
      "text/plain": [
       "<Figure size 432x288 with 1 Axes>"
      ]
     },
     "metadata": {
      "needs_background": "light"
     },
     "output_type": "display_data"
    }
   ],
   "source": [
    "print (\"Skew is:\", x_train.price.skew())\n",
    "\n",
    "plt.hist(x_train.price)\n",
    "plt.show()\n",
    "# It can be observed that the data is almost centrally alligned so there is no need of transformation\n",
    "#Along y is the number of observations\n",
    "#Along x is the price"
   ]
  },
  {
   "cell_type": "code",
   "execution_count": 117,
   "metadata": {},
   "outputs": [
    {
     "name": "stdout",
     "output_type": "stream",
     "text": [
      "price          1.000000\n",
      "on road now    0.267294\n",
      "on road old    0.237478\n",
      "condition      0.103110\n",
      "rating         0.045206\n",
      "hp             0.031105\n",
      "torque         0.007666\n",
      "years         -0.007331\n",
      "economy       -0.027346\n",
      "top speed     -0.033575\n",
      "v.id          -0.059933\n",
      "km            -0.936504\n",
      "Name: price, dtype: float64 \n",
      "\n"
     ]
    }
   ],
   "source": [
    "numerical_features = x_train.select_dtypes(include=[np.number])\n",
    "corr = numerical_features.corr()\n",
    "print (corr['price'].sort_values(ascending=False)[:], '\\n')\n",
    "\n",
    "# This gives the correlation each feature and the price of the car"
   ]
  },
  {
   "cell_type": "code",
   "execution_count": 119,
   "metadata": {},
   "outputs": [
    {
     "data": {
      "text/plain": [
       "<matplotlib.collections.PathCollection at 0x1c209690648>"
      ]
     },
     "execution_count": 119,
     "metadata": {},
     "output_type": "execute_result"
    },
    {
     "data": {
      "image/png": "[encoded data removed]",
      "text/plain": [
       "<Figure size 432x288 with 1 Axes>"
      ]
     },
     "metadata": {
      "needs_background": "light"
     },
     "output_type": "display_data"
    }
   ],
   "source": [
    "plt.scatter(x_train['km'],x_train['price'])\n",
    "# Just a visulisation of the worst related feature , that is the km. The graph pretty much sums up the correlation...being the exact opposite of the required visual."
   ]
  },
  {
   "cell_type": "code",
   "execution_count": 276,
   "metadata": {},
   "outputs": [
    {
     "data": {
      "text/plain": [
       "<matplotlib.axes._subplots.AxesSubplot at 0x28c5c6ed3c8>"
      ]
     },
     "execution_count": 276,
     "metadata": {},
     "output_type": "execute_result"
    },
    {
     "data": {
      "image/png": "[encoded data removed]",
      "text/plain": [
       "<Figure size 720x432 with 2 Axes>"
      ]
     },
     "metadata": {
      "needs_background": "light"
     },
     "output_type": "display_data"
    }
   ],
   "source": [
    "#tried to visualise the correlation \n",
    "matrix=dataset.corr()\n",
    "fig,ax=plt.subplots(figsize=(10,6))\n",
    "sns.heatmap(matrix,vmax=0.8,square=True)\n",
    "#I dont know why I did this...."
   ]
  },
  {
   "cell_type": "code",
   "execution_count": 130,
   "metadata": {},
   "outputs": [
    {
     "data": {
      "text/plain": [
       "<matplotlib.axes._subplots.AxesSubplot at 0x1c20eac7e48>"
      ]
     },
     "execution_count": 130,
     "metadata": {},
     "output_type": "execute_result"
    },
    {
     "data": {
      "image/png": "[encoded data removed]",
      "text/plain": [
       "<Figure size 432x288 with 1 Axes>"
      ]
     },
     "metadata": {
      "needs_background": "light"
     },
     "output_type": "display_data"
    }
   ],
   "source": [
    "sns.kdeplot(x_train, cmap=\"Blues\", shade=True, shade_lowest=True, )\n",
    "# this will give you an estimate about the price range in which the houses lie\n",
    "\n"
   ]
  },
  {
   "cell_type": "code",
   "execution_count": null,
   "metadata": {},
   "outputs": [],
   "source": []
  },
  {
   "cell_type": "code",
   "execution_count": 228,
   "metadata": {},
   "outputs": [],
   "source": [
    "x_train=x_train.drop(['price'],axis=1)\n",
    "y_train=y_train['price']\n",
    "\n",
    "x_test=x_test.drop(['price'],axis=1)\n",
    "y_test=y_test['price']\n",
    "\n"
   ]
  },
  {
   "cell_type": "code",
   "execution_count": 4,
   "metadata": {},
   "outputs": [],
   "source": [
    "\n",
    "\n",
    "from sklearn.linear_model import LinearRegression\n",
    "\n",
    "reg = LinearRegression()\n"
   ]
  },
  {
   "cell_type": "code",
   "execution_count": 5,
   "metadata": {},
   "outputs": [
    {
     "data": {
      "text/plain": [
       "LinearRegression(copy_X=True, fit_intercept=True, n_jobs=None, normalize=False)"
      ]
     },
     "execution_count": 5,
     "metadata": {},
     "output_type": "execute_result"
    }
   ],
   "source": [
    "\n",
    "reg.fit(x_train,y_train)\n"
   ]
  },
  {
   "cell_type": "code",
   "execution_count": 6,
   "metadata": {},
   "outputs": [
    {
     "name": "stdout",
     "output_type": "stream",
     "text": [
      "-13946.190844967496\n",
      "[ 5.65871008e-01  5.02329633e-01  5.01485447e-01 -1.63348769e+03\n",
      " -3.99619018e+00  2.05080495e+02  4.63442017e+03  4.04769069e+01\n",
      " -1.46285518e+01  2.78973035e+01  3.96088996e+00]\n"
     ]
    }
   ],
   "source": [
    "#To retrieve the intercept:\n",
    "print(reg.intercept_)\n",
    "#For retrieving the slope:\n",
    "print(reg.coef_)"
   ]
  },
  {
   "cell_type": "code",
   "execution_count": 7,
   "metadata": {},
   "outputs": [
    {
     "data": {
      "text/plain": [
       "0.9954065142434472"
      ]
     },
     "execution_count": 7,
     "metadata": {},
     "output_type": "execute_result"
    }
   ],
   "source": [
    "reg.score(x_test,y_test)\n"
   ]
  },
  {
   "cell_type": "code",
   "execution_count": 8,
   "metadata": {},
   "outputs": [
    {
     "data": {
      "text/plain": [
       "0.9954065142434472"
      ]
     },
     "execution_count": 8,
     "metadata": {},
     "output_type": "execute_result"
    }
   ],
   "source": [
    "reg.score(x_test,y_test)"
   ]
  },
  {
   "cell_type": "code",
   "execution_count": 9,
   "metadata": {},
   "outputs": [],
   "source": [
    "from sklearn import ensemble\n",
    "clf = ensemble.GradientBoostingRegressor(n_estimators = 990, max_depth = 3, min_samples_split = 2,\n",
    "          learning_rate = 0.05, loss = 'ls')"
   ]
  },
  {
   "cell_type": "code",
   "execution_count": 10,
   "metadata": {},
   "outputs": [
    {
     "data": {
      "text/plain": [
       "GradientBoostingRegressor(alpha=0.9, criterion='friedman_mse', init=None,\n",
       "                          learning_rate=0.05, loss='ls', max_depth=3,\n",
       "                          max_features=None, max_leaf_nodes=None,\n",
       "                          min_impurity_decrease=0.0, min_impurity_split=None,\n",
       "                          min_samples_leaf=1, min_samples_split=2,\n",
       "                          min_weight_fraction_leaf=0.0, n_estimators=990,\n",
       "                          n_iter_no_change=None, presort='auto',\n",
       "                          random_state=None, subsample=1.0, tol=0.0001,\n",
       "                          validation_fraction=0.1, verbose=0, warm_start=False)"
      ]
     },
     "execution_count": 10,
     "metadata": {},
     "output_type": "execute_result"
    }
   ],
   "source": [
    "clf.fit(x_train, y_train)"
   ]
  },
  {
   "cell_type": "code",
   "execution_count": 11,
   "metadata": {},
   "outputs": [
    {
     "data": {
      "text/plain": [
       "0.995539922713118"
      ]
     },
     "execution_count": 11,
     "metadata": {},
     "output_type": "execute_result"
    }
   ],
   "source": [
    "clf.score(x_test,y_test)"
   ]
  },
  {
   "cell_type": "code",
   "execution_count": 12,
   "metadata": {},
   "outputs": [
    {
     "name": "stdout",
     "output_type": "stream",
     "text": [
      "-13946.190844967496\n",
      "[ 5.65871008e-01  5.02329633e-01  5.01485447e-01 -1.63348769e+03\n",
      " -3.99619018e+00  2.05080495e+02  4.63442017e+03  4.04769069e+01\n",
      " -1.46285518e+01  2.78973035e+01  3.96088996e+00]\n"
     ]
    }
   ],
   "source": [
    "#To retrieve the intercept:\n",
    "print(reg.intercept_)\n",
    "#For retrieving the slope:\n",
    "print(reg.coef_)"
   ]
  },
  {
   "cell_type": "code",
   "execution_count": 13,
   "metadata": {},
   "outputs": [
    {
     "name": "stdout",
     "output_type": "stream",
     "text": [
      "                0\n",
      "0   373742.957295\n",
      "1   512929.545215\n",
      "2   155619.241912\n",
      "3   163816.046731\n",
      "4   510464.928542\n",
      "..            ...\n",
      "95  385047.560207\n",
      "96  347872.531404\n",
      "97  365619.593304\n",
      "98  491850.526990\n",
      "99  229274.404963\n",
      "\n",
      "[100 rows x 1 columns]\n"
     ]
    }
   ],
   "source": [
    "y_pred=pd.DataFrame(reg.predict(x_test))\n",
    "\n",
    "print(y_pred)\n",
    "pd.set_option('display.max_rows', None)\n"
   ]
  },
  {
   "cell_type": "code",
   "execution_count": 14,
   "metadata": {},
   "outputs": [
    {
     "data": {
      "text/html": [
       "<div>\n",
       "<style scoped>\n",
       "    .dataframe tbody tr th:only-of-type {\n",
       "        vertical-align: middle;\n",
       "    }\n",
       "\n",
       "    .dataframe tbody tr th {\n",
       "        vertical-align: top;\n",
       "    }\n",
       "\n",
       "    .dataframe thead th {\n",
       "        text-align: right;\n",
       "    }\n",
       "</style>\n",
       "<table border=\"1\" class=\"dataframe\">\n",
       "  <thead>\n",
       "    <tr style=\"text-align: right;\">\n",
       "      <th></th>\n",
       "      <th>0</th>\n",
       "    </tr>\n",
       "  </thead>\n",
       "  <tbody>\n",
       "    <tr>\n",
       "      <td>0</td>\n",
       "      <td>373742.957295</td>\n",
       "    </tr>\n",
       "    <tr>\n",
       "      <td>1</td>\n",
       "      <td>512929.545215</td>\n",
       "    </tr>\n",
       "    <tr>\n",
       "      <td>2</td>\n",
       "      <td>155619.241912</td>\n",
       "    </tr>\n",
       "    <tr>\n",
       "      <td>3</td>\n",
       "      <td>163816.046731</td>\n",
       "    </tr>\n",
       "    <tr>\n",
       "      <td>4</td>\n",
       "      <td>510464.928542</td>\n",
       "    </tr>\n",
       "    <tr>\n",
       "      <td>5</td>\n",
       "      <td>318798.466683</td>\n",
       "    </tr>\n",
       "    <tr>\n",
       "      <td>6</td>\n",
       "      <td>525115.471361</td>\n",
       "    </tr>\n",
       "    <tr>\n",
       "      <td>7</td>\n",
       "      <td>278432.719077</td>\n",
       "    </tr>\n",
       "    <tr>\n",
       "      <td>8</td>\n",
       "      <td>382231.367358</td>\n",
       "    </tr>\n",
       "    <tr>\n",
       "      <td>9</td>\n",
       "      <td>216834.830162</td>\n",
       "    </tr>\n",
       "    <tr>\n",
       "      <td>10</td>\n",
       "      <td>315454.816986</td>\n",
       "    </tr>\n",
       "    <tr>\n",
       "      <td>11</td>\n",
       "      <td>154682.793835</td>\n",
       "    </tr>\n",
       "    <tr>\n",
       "      <td>12</td>\n",
       "      <td>274743.982935</td>\n",
       "    </tr>\n",
       "    <tr>\n",
       "      <td>13</td>\n",
       "      <td>496488.645130</td>\n",
       "    </tr>\n",
       "    <tr>\n",
       "      <td>14</td>\n",
       "      <td>557739.785768</td>\n",
       "    </tr>\n",
       "    <tr>\n",
       "      <td>15</td>\n",
       "      <td>222651.114283</td>\n",
       "    </tr>\n",
       "    <tr>\n",
       "      <td>16</td>\n",
       "      <td>441036.954421</td>\n",
       "    </tr>\n",
       "    <tr>\n",
       "      <td>17</td>\n",
       "      <td>230867.283229</td>\n",
       "    </tr>\n",
       "    <tr>\n",
       "      <td>18</td>\n",
       "      <td>261770.250159</td>\n",
       "    </tr>\n",
       "    <tr>\n",
       "      <td>19</td>\n",
       "      <td>191584.058333</td>\n",
       "    </tr>\n",
       "    <tr>\n",
       "      <td>20</td>\n",
       "      <td>416292.875582</td>\n",
       "    </tr>\n",
       "    <tr>\n",
       "      <td>21</td>\n",
       "      <td>221659.023336</td>\n",
       "    </tr>\n",
       "    <tr>\n",
       "      <td>22</td>\n",
       "      <td>407990.334541</td>\n",
       "    </tr>\n",
       "    <tr>\n",
       "      <td>23</td>\n",
       "      <td>303934.723216</td>\n",
       "    </tr>\n",
       "    <tr>\n",
       "      <td>24</td>\n",
       "      <td>117476.269569</td>\n",
       "    </tr>\n",
       "    <tr>\n",
       "      <td>25</td>\n",
       "      <td>251345.943218</td>\n",
       "    </tr>\n",
       "    <tr>\n",
       "      <td>26</td>\n",
       "      <td>353703.085690</td>\n",
       "    </tr>\n",
       "    <tr>\n",
       "      <td>27</td>\n",
       "      <td>210360.896910</td>\n",
       "    </tr>\n",
       "    <tr>\n",
       "      <td>28</td>\n",
       "      <td>262612.484944</td>\n",
       "    </tr>\n",
       "    <tr>\n",
       "      <td>29</td>\n",
       "      <td>465329.643312</td>\n",
       "    </tr>\n",
       "    <tr>\n",
       "      <td>30</td>\n",
       "      <td>106186.752537</td>\n",
       "    </tr>\n",
       "    <tr>\n",
       "      <td>31</td>\n",
       "      <td>105306.311732</td>\n",
       "    </tr>\n",
       "    <tr>\n",
       "      <td>32</td>\n",
       "      <td>540017.842147</td>\n",
       "    </tr>\n",
       "    <tr>\n",
       "      <td>33</td>\n",
       "      <td>325515.250862</td>\n",
       "    </tr>\n",
       "    <tr>\n",
       "      <td>34</td>\n",
       "      <td>337376.423035</td>\n",
       "    </tr>\n",
       "    <tr>\n",
       "      <td>35</td>\n",
       "      <td>155886.608910</td>\n",
       "    </tr>\n",
       "    <tr>\n",
       "      <td>36</td>\n",
       "      <td>249998.012160</td>\n",
       "    </tr>\n",
       "    <tr>\n",
       "      <td>37</td>\n",
       "      <td>502264.176235</td>\n",
       "    </tr>\n",
       "    <tr>\n",
       "      <td>38</td>\n",
       "      <td>493740.868000</td>\n",
       "    </tr>\n",
       "    <tr>\n",
       "      <td>39</td>\n",
       "      <td>371577.019622</td>\n",
       "    </tr>\n",
       "    <tr>\n",
       "      <td>40</td>\n",
       "      <td>284443.596273</td>\n",
       "    </tr>\n",
       "    <tr>\n",
       "      <td>41</td>\n",
       "      <td>526971.697475</td>\n",
       "    </tr>\n",
       "    <tr>\n",
       "      <td>42</td>\n",
       "      <td>398869.950847</td>\n",
       "    </tr>\n",
       "    <tr>\n",
       "      <td>43</td>\n",
       "      <td>180849.394131</td>\n",
       "    </tr>\n",
       "    <tr>\n",
       "      <td>44</td>\n",
       "      <td>534605.769781</td>\n",
       "    </tr>\n",
       "    <tr>\n",
       "      <td>45</td>\n",
       "      <td>230326.252080</td>\n",
       "    </tr>\n",
       "    <tr>\n",
       "      <td>46</td>\n",
       "      <td>465036.014580</td>\n",
       "    </tr>\n",
       "    <tr>\n",
       "      <td>47</td>\n",
       "      <td>435386.250832</td>\n",
       "    </tr>\n",
       "    <tr>\n",
       "      <td>48</td>\n",
       "      <td>419615.818764</td>\n",
       "    </tr>\n",
       "    <tr>\n",
       "      <td>49</td>\n",
       "      <td>370055.409222</td>\n",
       "    </tr>\n",
       "    <tr>\n",
       "      <td>50</td>\n",
       "      <td>414089.368433</td>\n",
       "    </tr>\n",
       "    <tr>\n",
       "      <td>51</td>\n",
       "      <td>256808.698557</td>\n",
       "    </tr>\n",
       "    <tr>\n",
       "      <td>52</td>\n",
       "      <td>344433.394929</td>\n",
       "    </tr>\n",
       "    <tr>\n",
       "      <td>53</td>\n",
       "      <td>236292.683764</td>\n",
       "    </tr>\n",
       "    <tr>\n",
       "      <td>54</td>\n",
       "      <td>132837.915746</td>\n",
       "    </tr>\n",
       "    <tr>\n",
       "      <td>55</td>\n",
       "      <td>357860.560315</td>\n",
       "    </tr>\n",
       "    <tr>\n",
       "      <td>56</td>\n",
       "      <td>495338.211884</td>\n",
       "    </tr>\n",
       "    <tr>\n",
       "      <td>57</td>\n",
       "      <td>301178.107014</td>\n",
       "    </tr>\n",
       "    <tr>\n",
       "      <td>58</td>\n",
       "      <td>259820.342026</td>\n",
       "    </tr>\n",
       "    <tr>\n",
       "      <td>59</td>\n",
       "      <td>184707.813239</td>\n",
       "    </tr>\n",
       "    <tr>\n",
       "      <td>60</td>\n",
       "      <td>227440.692771</td>\n",
       "    </tr>\n",
       "    <tr>\n",
       "      <td>61</td>\n",
       "      <td>240257.466238</td>\n",
       "    </tr>\n",
       "    <tr>\n",
       "      <td>62</td>\n",
       "      <td>484817.661884</td>\n",
       "    </tr>\n",
       "    <tr>\n",
       "      <td>63</td>\n",
       "      <td>135459.747618</td>\n",
       "    </tr>\n",
       "    <tr>\n",
       "      <td>64</td>\n",
       "      <td>500879.128141</td>\n",
       "    </tr>\n",
       "    <tr>\n",
       "      <td>65</td>\n",
       "      <td>426169.696544</td>\n",
       "    </tr>\n",
       "    <tr>\n",
       "      <td>66</td>\n",
       "      <td>418517.900498</td>\n",
       "    </tr>\n",
       "    <tr>\n",
       "      <td>67</td>\n",
       "      <td>250179.028737</td>\n",
       "    </tr>\n",
       "    <tr>\n",
       "      <td>68</td>\n",
       "      <td>201433.767922</td>\n",
       "    </tr>\n",
       "    <tr>\n",
       "      <td>69</td>\n",
       "      <td>368175.879115</td>\n",
       "    </tr>\n",
       "    <tr>\n",
       "      <td>70</td>\n",
       "      <td>206756.595360</td>\n",
       "    </tr>\n",
       "    <tr>\n",
       "      <td>71</td>\n",
       "      <td>265879.308820</td>\n",
       "    </tr>\n",
       "    <tr>\n",
       "      <td>72</td>\n",
       "      <td>507620.497127</td>\n",
       "    </tr>\n",
       "    <tr>\n",
       "      <td>73</td>\n",
       "      <td>511667.323049</td>\n",
       "    </tr>\n",
       "    <tr>\n",
       "      <td>74</td>\n",
       "      <td>72680.502270</td>\n",
       "    </tr>\n",
       "    <tr>\n",
       "      <td>75</td>\n",
       "      <td>320983.774720</td>\n",
       "    </tr>\n",
       "    <tr>\n",
       "      <td>76</td>\n",
       "      <td>390311.231442</td>\n",
       "    </tr>\n",
       "    <tr>\n",
       "      <td>77</td>\n",
       "      <td>248174.661983</td>\n",
       "    </tr>\n",
       "    <tr>\n",
       "      <td>78</td>\n",
       "      <td>402434.031506</td>\n",
       "    </tr>\n",
       "    <tr>\n",
       "      <td>79</td>\n",
       "      <td>106475.909945</td>\n",
       "    </tr>\n",
       "    <tr>\n",
       "      <td>80</td>\n",
       "      <td>283977.039561</td>\n",
       "    </tr>\n",
       "    <tr>\n",
       "      <td>81</td>\n",
       "      <td>318046.443828</td>\n",
       "    </tr>\n",
       "    <tr>\n",
       "      <td>82</td>\n",
       "      <td>219850.641498</td>\n",
       "    </tr>\n",
       "    <tr>\n",
       "      <td>83</td>\n",
       "      <td>300997.705336</td>\n",
       "    </tr>\n",
       "    <tr>\n",
       "      <td>84</td>\n",
       "      <td>346615.148631</td>\n",
       "    </tr>\n",
       "    <tr>\n",
       "      <td>85</td>\n",
       "      <td>283209.921107</td>\n",
       "    </tr>\n",
       "    <tr>\n",
       "      <td>86</td>\n",
       "      <td>83606.543025</td>\n",
       "    </tr>\n",
       "    <tr>\n",
       "      <td>87</td>\n",
       "      <td>147661.933455</td>\n",
       "    </tr>\n",
       "    <tr>\n",
       "      <td>88</td>\n",
       "      <td>467523.944257</td>\n",
       "    </tr>\n",
       "    <tr>\n",
       "      <td>89</td>\n",
       "      <td>536090.357614</td>\n",
       "    </tr>\n",
       "    <tr>\n",
       "      <td>90</td>\n",
       "      <td>243721.815778</td>\n",
       "    </tr>\n",
       "    <tr>\n",
       "      <td>91</td>\n",
       "      <td>295256.033518</td>\n",
       "    </tr>\n",
       "    <tr>\n",
       "      <td>92</td>\n",
       "      <td>202656.388745</td>\n",
       "    </tr>\n",
       "    <tr>\n",
       "      <td>93</td>\n",
       "      <td>287010.381064</td>\n",
       "    </tr>\n",
       "    <tr>\n",
       "      <td>94</td>\n",
       "      <td>67466.997544</td>\n",
       "    </tr>\n",
       "    <tr>\n",
       "      <td>95</td>\n",
       "      <td>385047.560207</td>\n",
       "    </tr>\n",
       "    <tr>\n",
       "      <td>96</td>\n",
       "      <td>347872.531404</td>\n",
       "    </tr>\n",
       "    <tr>\n",
       "      <td>97</td>\n",
       "      <td>365619.593304</td>\n",
       "    </tr>\n",
       "    <tr>\n",
       "      <td>98</td>\n",
       "      <td>491850.526990</td>\n",
       "    </tr>\n",
       "    <tr>\n",
       "      <td>99</td>\n",
       "      <td>229274.404963</td>\n",
       "    </tr>\n",
       "  </tbody>\n",
       "</table>\n",
       "</div>"
      ],
      "text/plain": [
       "                0\n",
       "0   373742.957295\n",
       "1   512929.545215\n",
       "2   155619.241912\n",
       "3   163816.046731\n",
       "4   510464.928542\n",
       "5   318798.466683\n",
       "6   525115.471361\n",
       "7   278432.719077\n",
       "8   382231.367358\n",
       "9   216834.830162\n",
       "10  315454.816986\n",
       "11  154682.793835\n",
       "12  274743.982935\n",
       "13  496488.645130\n",
       "14  557739.785768\n",
       "15  222651.114283\n",
       "16  441036.954421\n",
       "17  230867.283229\n",
       "18  261770.250159\n",
       "19  191584.058333\n",
       "20  416292.875582\n",
       "21  221659.023336\n",
       "22  407990.334541\n",
       "23  303934.723216\n",
       "24  117476.269569\n",
       "25  251345.943218\n",
       "26  353703.085690\n",
       "27  210360.896910\n",
       "28  262612.484944\n",
       "29  465329.643312\n",
       "30  106186.752537\n",
       "31  105306.311732\n",
       "32  540017.842147\n",
       "33  325515.250862\n",
       "34  337376.423035\n",
       "35  155886.608910\n",
       "36  249998.012160\n",
       "37  502264.176235\n",
       "38  493740.868000\n",
       "39  371577.019622\n",
       "40  284443.596273\n",
       "41  526971.697475\n",
       "42  398869.950847\n",
       "43  180849.394131\n",
       "44  534605.769781\n",
       "45  230326.252080\n",
       "46  465036.014580\n",
       "47  435386.250832\n",
       "48  419615.818764\n",
       "49  370055.409222\n",
       "50  414089.368433\n",
       "51  256808.698557\n",
       "52  344433.394929\n",
       "53  236292.683764\n",
       "54  132837.915746\n",
       "55  357860.560315\n",
       "56  495338.211884\n",
       "57  301178.107014\n",
       "58  259820.342026\n",
       "59  184707.813239\n",
       "60  227440.692771\n",
       "61  240257.466238\n",
       "62  484817.661884\n",
       "63  135459.747618\n",
       "64  500879.128141\n",
       "65  426169.696544\n",
       "66  418517.900498\n",
       "67  250179.028737\n",
       "68  201433.767922\n",
       "69  368175.879115\n",
       "70  206756.595360\n",
       "71  265879.308820\n",
       "72  507620.497127\n",
       "73  511667.323049\n",
       "74   72680.502270\n",
       "75  320983.774720\n",
       "76  390311.231442\n",
       "77  248174.661983\n",
       "78  402434.031506\n",
       "79  106475.909945\n",
       "80  283977.039561\n",
       "81  318046.443828\n",
       "82  219850.641498\n",
       "83  300997.705336\n",
       "84  346615.148631\n",
       "85  283209.921107\n",
       "86   83606.543025\n",
       "87  147661.933455\n",
       "88  467523.944257\n",
       "89  536090.357614\n",
       "90  243721.815778\n",
       "91  295256.033518\n",
       "92  202656.388745\n",
       "93  287010.381064\n",
       "94   67466.997544\n",
       "95  385047.560207\n",
       "96  347872.531404\n",
       "97  365619.593304\n",
       "98  491850.526990\n",
       "99  229274.404963"
      ]
     },
     "execution_count": 14,
     "metadata": {},
     "output_type": "execute_result"
    }
   ],
   "source": [
    "y_pred"
   ]
  },
  {
   "cell_type": "code",
   "execution_count": 15,
   "metadata": {},
   "outputs": [],
   "source": [
    "from sklearn.metrics import mean_squared_error\n",
    "mse=mean_squared_error(y_test, y_pred)\n"
   ]
  },
  {
   "cell_type": "code",
   "execution_count": 16,
   "metadata": {},
   "outputs": [
    {
     "name": "stdout",
     "output_type": "stream",
     "text": [
      "8725.18411132054\n"
     ]
    }
   ],
   "source": [
    "print(np.sqrt(mse))"
   ]
  },
  {
   "cell_type": "code",
   "execution_count": 17,
   "metadata": {},
   "outputs": [
    {
     "data": {
      "text/plain": [
       "<matplotlib.collections.PathCollection at 0x1e887ccd648>"
      ]
     },
     "execution_count": 17,
     "metadata": {},
     "output_type": "execute_result"
    },
    {
     "data": {
      "image/png": "[encoded data removed]",
      "text/plain": [
       "<Figure size 432x288 with 1 Axes>"
      ]
     },
     "metadata": {
      "needs_background": "light"
     },
     "output_type": "display_data"
    }
   ],
   "source": [
    "plt.scatter(y_test,y_pred)\n",
    "# this graph shows the strong correlation between the test values and the predicted values."
   ]
  },
  {
   "cell_type": "code",
   "execution_count": 196,
   "metadata": {},
   "outputs": [],
   "source": [
    "from sklearn import ensemble\n",
    "clf = ensemble.GradientBoostingRegressor(n_estimators = 10000, max_depth = 2, min_samples_split = 5,subsample=0.5,\n",
    "          learning_rate = 0.05, loss = 'ls',random_state=1,min_samples_leaf=2,alpha=0.25\n",
    "                                ,warm_start=True )"
   ]
  },
  {
   "cell_type": "code",
   "execution_count": 197,
   "metadata": {},
   "outputs": [
    {
     "data": {
      "text/plain": [
       "GradientBoostingRegressor(alpha=0.25, criterion='friedman_mse', init=None,\n",
       "                          learning_rate=0.05, loss='ls', max_depth=2,\n",
       "                          max_features=None, max_leaf_nodes=None,\n",
       "                          min_impurity_decrease=0.0, min_impurity_split=None,\n",
       "                          min_samples_leaf=2, min_samples_split=5,\n",
       "                          min_weight_fraction_leaf=0.0, n_estimators=10000,\n",
       "                          n_iter_no_change=None, presort='auto', random_state=1,\n",
       "                          subsample=0.5, tol=0.0001, validation_fraction=0.1,\n",
       "                          verbose=0, warm_start=True)"
      ]
     },
     "execution_count": 197,
     "metadata": {},
     "output_type": "execute_result"
    }
   ],
   "source": [
    "clf.fit(x_train,y_train)"
   ]
  },
  {
   "cell_type": "code",
   "execution_count": 198,
   "metadata": {},
   "outputs": [
    {
     "name": "stdout",
     "output_type": "stream",
     "text": [
      "4087.731389812327\n"
     ]
    }
   ],
   "source": [
    "from sklearn.metrics import mean_squared_error\n",
    "y_pred=clf.predict(x_test)\n",
    "\n",
    "rss=mean_squared_error(y_test, y_pred)\n",
    "\n",
    "print(np.sqrt(rss))"
   ]
  },
  {
   "cell_type": "code",
   "execution_count": null,
   "metadata": {},
   "outputs": [],
   "source": [
    "#Time to use CatBoostRegressor with plain boost type , i have tried with ordered type but the results werent as good\n",
    "#Feature scaling has not been used prior "
   ]
  },
  {
   "cell_type": "code",
   "execution_count": 229,
   "metadata": {},
   "outputs": [],
   "source": [
    "from lightgbm import LGBMRegressor\n",
    "lgb=LGBMRegressor(boosting_type='gbdt', class_weight=None, colsample_bytree=1.0,\n",
    "              importance_type='split', learning_rate=0.05, max_depth=-1,\n",
    "              min_child_samples=20, min_child_weight=0.001, min_split_gain=0.0,\n",
    "              n_estimators=10000, n_jobs=-1, num_leaves=31, objective=None,\n",
    "              random_state=None, reg_alpha=0.0, reg_lambda=0.0, silent=True,\n",
    "              subsample=1.0, subsample_for_bin=2000, subsample_freq=0)\n"
   ]
  },
  {
   "cell_type": "code",
   "execution_count": 230,
   "metadata": {},
   "outputs": [
    {
     "data": {
      "text/plain": [
       "LGBMRegressor(boosting_type='gbdt', class_weight=None, colsample_bytree=1.0,\n",
       "              importance_type='split', learning_rate=0.05, max_depth=-1,\n",
       "              min_child_samples=20, min_child_weight=0.001, min_split_gain=0.0,\n",
       "              n_estimators=10000, n_jobs=-1, num_leaves=31, objective=None,\n",
       "              random_state=None, reg_alpha=0.0, reg_lambda=0.0, silent=True,\n",
       "              subsample=1.0, subsample_for_bin=2000, subsample_freq=0)"
      ]
     },
     "execution_count": 230,
     "metadata": {},
     "output_type": "execute_result"
    }
   ],
   "source": [
    "lgb.fit(x_train,y_train)"
   ]
  },
  {
   "cell_type": "code",
   "execution_count": 232,
   "metadata": {},
   "outputs": [
    {
     "name": "stdout",
     "output_type": "stream",
     "text": [
      "4087.731389812327\n"
     ]
    }
   ],
   "source": [
    "from sklearn.metrics import mean_squared_error\n",
    "y_p=clf.predict(x_test)\n",
    "\n",
    "acc=mean_squared_error(y_test, y_p)\n",
    "\n",
    "print(np.sqrt(acc))"
   ]
  },
  {
   "cell_type": "code",
   "execution_count": 234,
   "metadata": {},
   "outputs": [],
   "source": [
    "from catboost import CatBoostRegressor"
   ]
  },
  {
   "cell_type": "code",
   "execution_count": 274,
   "metadata": {},
   "outputs": [
    {
     "name": "stdout",
     "output_type": "stream",
     "text": [
      "0:\tlearn: 122765.8894999\ttest: 126494.7038822\tbest: 126494.7038822 (0)\ttotal: 1.62ms\tremaining: 32.4s\n",
      "1000:\tlearn: 3110.2707876\ttest: 3925.0602868\tbest: 3925.0602868 (1000)\ttotal: 1s\tremaining: 19s\n",
      "2000:\tlearn: 2029.2770362\ttest: 2879.4024066\tbest: 2879.4024066 (2000)\ttotal: 1.96s\tremaining: 17.6s\n",
      "3000:\tlearn: 1537.3568286\ttest: 2433.3101992\tbest: 2433.3101992 (3000)\ttotal: 2.94s\tremaining: 16.7s\n",
      "4000:\tlearn: 1271.4628614\ttest: 2231.4248594\tbest: 2231.4248594 (4000)\ttotal: 3.97s\tremaining: 15.9s\n",
      "5000:\tlearn: 1104.7952965\ttest: 2141.7617548\tbest: 2141.7617548 (5000)\ttotal: 4.95s\tremaining: 14.8s\n",
      "6000:\tlearn: 985.1228252\ttest: 2093.4153652\tbest: 2093.4153652 (6000)\ttotal: 5.95s\tremaining: 13.9s\n",
      "7000:\tlearn: 891.5629056\ttest: 2061.7810708\tbest: 2061.7810708 (7000)\ttotal: 6.94s\tremaining: 12.9s\n",
      "8000:\tlearn: 815.7988298\ttest: 2037.6489616\tbest: 2037.6489616 (8000)\ttotal: 7.92s\tremaining: 11.9s\n",
      "9000:\tlearn: 751.1568324\ttest: 2027.3698189\tbest: 2027.3698189 (9000)\ttotal: 8.91s\tremaining: 10.9s\n",
      "10000:\tlearn: 694.1206007\ttest: 2019.5580586\tbest: 2019.5580586 (10000)\ttotal: 9.91s\tremaining: 9.91s\n",
      "11000:\tlearn: 643.8444739\ttest: 2013.0342423\tbest: 2013.0342423 (11000)\ttotal: 10.9s\tremaining: 8.93s\n",
      "12000:\tlearn: 598.3313247\ttest: 2008.5157912\tbest: 2008.5157912 (12000)\ttotal: 11.9s\tremaining: 7.95s\n",
      "13000:\tlearn: 555.8974476\ttest: 1999.3934356\tbest: 1999.3934356 (13000)\ttotal: 12.9s\tremaining: 6.95s\n",
      "14000:\tlearn: 519.8643381\ttest: 1991.6564995\tbest: 1991.6564995 (14000)\ttotal: 13.9s\tremaining: 5.95s\n",
      "15000:\tlearn: 488.5617455\ttest: 1984.7809917\tbest: 1984.7809917 (15000)\ttotal: 14.9s\tremaining: 4.96s\n",
      "16000:\tlearn: 460.2653276\ttest: 1981.8715099\tbest: 1981.8715099 (16000)\ttotal: 15.9s\tremaining: 3.96s\n",
      "17000:\tlearn: 435.4569283\ttest: 1980.8226995\tbest: 1980.8226995 (17000)\ttotal: 16.9s\tremaining: 2.98s\n",
      "18000:\tlearn: 411.8019900\ttest: 1975.4244069\tbest: 1975.4244069 (18000)\ttotal: 17.9s\tremaining: 1.98s\n",
      "19000:\tlearn: 391.1762258\ttest: 1970.3129664\tbest: 1970.3129664 (19000)\ttotal: 18.8s\tremaining: 990ms\n",
      "19999:\tlearn: 372.8985837\ttest: 1967.6290771\tbest: 1967.6290771 (19999)\ttotal: 19.8s\tremaining: 0us\n",
      "\n",
      "bestTest = 1967.629077\n",
      "bestIteration = 19999\n",
      "\n"
     ]
    },
    {
     "data": {
      "text/plain": [
       "<catboost.core.CatBoostRegressor at 0x28c5cd53048>"
      ]
     },
     "execution_count": 274,
     "metadata": {},
     "output_type": "execute_result"
    }
   ],
   "source": [
    "model=CatBoostRegressor(iterations=20000,loss_function='RMSE',eval_metric=\"RMSE\",learning_rate=.03,depth=2,boosting_type='Plain')\n",
    "model.fit(x_train,y_train,eval_set=(x_test,y_test),metric_period=1000)\n",
    "\n"
   ]
  },
  {
   "cell_type": "code",
   "execution_count": null,
   "metadata": {},
   "outputs": [],
   "source": [
    "# Target was to achieve RMSE of 3000 , I have reached 1967 ."
   ]
  },
  {
   "cell_type": "code",
   "execution_count": null,
   "metadata": {},
   "outputs": [],
   "source": []
  },
  {
   "cell_type": "code",
   "execution_count": null,
   "metadata": {},
   "outputs": [],
   "source": []
  },
  {
   "cell_type": "code",
   "execution_count": null,
   "metadata": {},
   "outputs": [],
   "source": []
  },
  {
   "cell_type": "code",
   "execution_count": null,
   "metadata": {},
   "outputs": [],
   "source": []
  }
 ],
 "metadata": {
  "kernelspec": {
   "display_name": "Python 3",
   "language": "python",
   "name": "python3"
  },
  "language_info": {
   "codemirror_mode": {
    "name": "ipython",
    "version": 3
   },
   "file_extension": ".py",
   "mimetype": "text/x-python",
   "name": "python",
   "nbconvert_exporter": "python",
   "pygments_lexer": "ipython3",
   "version": "3.7.4"
  }
 },
 "nbformat": 4,
 "nbformat_minor": 2
}
